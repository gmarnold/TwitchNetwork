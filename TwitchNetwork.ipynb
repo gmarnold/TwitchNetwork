{
 "cells": [
  {
   "cell_type": "code",
   "execution_count": 1,
   "metadata": {},
   "outputs": [
    {
     "name": "stdout",
     "output_type": "stream",
     "text": [
      "Collecting python-twitch-client\n",
      "  Downloading python_twitch_client-0.7.1-py3-none-any.whl (20 kB)\n",
      "Collecting requests>=2.23.0\n",
      "  Downloading requests-2.26.0-py2.py3-none-any.whl (62 kB)\n",
      "Collecting charset-normalizer~=2.0.0; python_version >= \"3\"\n",
      "  Downloading charset_normalizer-2.0.4-py3-none-any.whl (36 kB)\n",
      "Requirement already satisfied: idna<4,>=2.5; python_version >= \"3\" in c:\\users\\grace\\anaconda3\\lib\\site-packages (from requests>=2.23.0->python-twitch-client) (2.8)\n",
      "Requirement already satisfied: urllib3<1.27,>=1.21.1 in c:\\users\\grace\\anaconda3\\lib\\site-packages (from requests>=2.23.0->python-twitch-client) (1.25.8)\n",
      "Requirement already satisfied: certifi>=2017.4.17 in c:\\users\\grace\\anaconda3\\lib\\site-packages (from requests>=2.23.0->python-twitch-client) (2019.11.28)\n",
      "Installing collected packages: charset-normalizer, requests, python-twitch-client\n",
      "  Attempting uninstall: requests\n",
      "    Found existing installation: requests 2.22.0\n",
      "    Uninstalling requests-2.22.0:\n",
      "      Successfully uninstalled requests-2.22.0\n",
      "Successfully installed charset-normalizer-2.0.4 python-twitch-client-0.7.1 requests-2.26.0\n",
      "Note: you may need to restart the kernel to use updated packages.\n"
     ]
    },
    {
     "name": "stderr",
     "output_type": "stream",
     "text": [
      "ERROR: conda 4.10.1 requires ruamel_yaml_conda>=0.11.14, which is not installed.\n"
     ]
    }
   ],
   "source": [
    "pip install python-twitch-client"
   ]
  },
  {
   "cell_type": "code",
   "execution_count": 3,
   "metadata": {},
   "outputs": [],
   "source": [
    "from twitch import TwitchClient"
   ]
  },
  {
   "cell_type": "code",
   "execution_count": 13,
   "metadata": {},
   "outputs": [],
   "source": [
    "client = TwitchClient(client_id='45smruax3qg6qh72lnf9ykcoqm3cm5', oauth_token='tt1egaliva2jya3h130oqs1ixa9fex')"
   ]
  },
  {
   "cell_type": "code",
   "execution_count": 18,
   "metadata": {},
   "outputs": [
    {
     "ename": "SyntaxError",
     "evalue": "invalid syntax (<ipython-input-18-85e38e7c6c9c>, line 1)",
     "output_type": "error",
     "traceback": [
      "\u001b[1;36m  File \u001b[1;32m\"<ipython-input-18-85e38e7c6c9c>\"\u001b[1;36m, line \u001b[1;32m1\u001b[0m\n\u001b[1;33m    client = TwitchClient(client_id=45smruax3qg6qh72lnf9ykcoqm3cm5)\u001b[0m\n\u001b[1;37m                                                                 ^\u001b[0m\n\u001b[1;31mSyntaxError\u001b[0m\u001b[1;31m:\u001b[0m invalid syntax\n"
     ]
    }
   ],
   "source": [
    "client = TwitchClient(client_id='45smruax3qg6qh72lnf9ykcoqm3cm5')"
   ]
  },
  {
   "cell_type": "code",
   "execution_count": 19,
   "metadata": {},
   "outputs": [
    {
     "name": "stdout",
     "output_type": "stream",
     "text": [
      "Collecting twitchAPI\n",
      "  Downloading twitchAPI-2.3.2.tar.gz (40 kB)\n",
      "Requirement already satisfied: requests in c:\\users\\grace\\anaconda3\\lib\\site-packages (from twitchAPI) (2.26.0)\n",
      "Requirement already satisfied: python-dateutil in c:\\users\\grace\\anaconda3\\lib\\site-packages (from twitchAPI) (2.8.1)\n",
      "Collecting aiohttp\n",
      "  Downloading aiohttp-3.7.4.post0-cp37-cp37m-win_amd64.whl (630 kB)\n",
      "Collecting websockets\n",
      "  Downloading websockets-9.1-cp37-cp37m-win_amd64.whl (90 kB)\n",
      "Requirement already satisfied: idna<4,>=2.5; python_version >= \"3\" in c:\\users\\grace\\anaconda3\\lib\\site-packages (from requests->twitchAPI) (2.8)\n",
      "Requirement already satisfied: charset-normalizer~=2.0.0; python_version >= \"3\" in c:\\users\\grace\\anaconda3\\lib\\site-packages (from requests->twitchAPI) (2.0.4)\n",
      "Requirement already satisfied: urllib3<1.27,>=1.21.1 in c:\\users\\grace\\anaconda3\\lib\\site-packages (from requests->twitchAPI) (1.25.8)\n",
      "Requirement already satisfied: certifi>=2017.4.17 in c:\\users\\grace\\anaconda3\\lib\\site-packages (from requests->twitchAPI) (2019.11.28)\n",
      "Requirement already satisfied: six>=1.5 in c:\\users\\grace\\anaconda3\\lib\\site-packages (from python-dateutil->twitchAPI) (1.14.0)\n",
      "Collecting multidict<7.0,>=4.5\n",
      "  Downloading multidict-5.1.0-cp37-cp37m-win_amd64.whl (48 kB)\n",
      "Collecting typing-extensions>=3.6.5\n",
      "  Downloading typing_extensions-3.10.0.0-py3-none-any.whl (26 kB)\n",
      "Collecting yarl<2.0,>=1.0\n",
      "  Downloading yarl-1.6.3-cp37-cp37m-win_amd64.whl (124 kB)\n",
      "Requirement already satisfied: attrs>=17.3.0 in c:\\users\\grace\\anaconda3\\lib\\site-packages (from aiohttp->twitchAPI) (19.3.0)\n",
      "Collecting async-timeout<4.0,>=3.0\n",
      "  Downloading async_timeout-3.0.1-py3-none-any.whl (8.2 kB)\n",
      "Requirement already satisfied: chardet<5.0,>=2.0 in c:\\users\\grace\\anaconda3\\lib\\site-packages (from aiohttp->twitchAPI) (3.0.4)\n",
      "Building wheels for collected packages: twitchAPI\n",
      "  Building wheel for twitchAPI (setup.py): started\n",
      "  Building wheel for twitchAPI (setup.py): finished with status 'done'\n",
      "  Created wheel for twitchAPI: filename=twitchAPI-2.3.2-py3-none-any.whl size=41201 sha256=e09196bac1ef831cd72a54ebe5925d62907503f6f54edd864c9070d225cc3a68\n",
      "  Stored in directory: c:\\users\\grace\\appdata\\local\\pip\\cache\\wheels\\29\\0f\\47\\d6bb3d1abdf8070304126b44d64929476dc5fae50a1ad35004\n",
      "Successfully built twitchAPI\n",
      "Installing collected packages: multidict, typing-extensions, yarl, async-timeout, aiohttp, websockets, twitchAPI\n",
      "Successfully installed aiohttp-3.7.4.post0 async-timeout-3.0.1 multidict-5.1.0 twitchAPI-2.3.2 typing-extensions-3.10.0.0 websockets-9.1 yarl-1.6.3\n",
      "Note: you may need to restart the kernel to use updated packages.\n"
     ]
    }
   ],
   "source": [
    "pip install twitchAPI"
   ]
  },
  {
   "cell_type": "code",
   "execution_count": 20,
   "metadata": {},
   "outputs": [
    {
     "name": "stdout",
     "output_type": "stream",
     "text": [
      "{'data': [{'broadcaster_type': '',\n",
      "           'created_at': '2018-03-07T22:25:20Z',\n",
      "           'description': 'Gamer. Guinness World Record Holder. Cat Owner.',\n",
      "           'display_name': 'SereneGrachay',\n",
      "           'id': '203571765',\n",
      "           'login': 'serenegrachay',\n",
      "           'offline_image_url': '',\n",
      "           'profile_image_url': 'https://static-cdn.jtvnw.net/jtv_user_pictures/7f0ebcd0-1016-4fa0-b3c3-a088e4751c6f-profile_image-300x300.png',\n",
      "           'type': '',\n",
      "           'view_count': 904}]}\n"
     ]
    }
   ],
   "source": [
    "from twitchAPI.twitch import Twitch\n",
    "from pprint import pprint\n",
    "twitch = Twitch('45smruax3qg6qh72lnf9ykcoqm3cm5', 'tt1egaliva2jya3h130oqs1ixa9fex')\n",
    "pprint(twitch.get_users(logins=['serenegrachay']))"
   ]
  },
  {
   "cell_type": "code",
   "execution_count": 24,
   "metadata": {},
   "outputs": [
    {
     "name": "stdout",
     "output_type": "stream",
     "text": [
      "{'data': [{'broadcaster_type': 'affiliate',\n",
      "           'created_at': '2013-01-21T23:46:19Z',\n",
      "           'description': \"Hey guys! Garby here! I'm here to help educate the \"\n",
      "                          'masses in the wonders of competitive Pokemon. I '\n",
      "                          'have played competitive pokemon for over 10 years, '\n",
      "                          'but have just recently focused more time in the '\n",
      "                          'official Nintendo support format, VGC. Hope you '\n",
      "                          'enjoy the content and learn a thing or two! ',\n",
      "           'display_name': 'GentlemanGarby',\n",
      "           'id': '39567248',\n",
      "           'login': 'gentlemangarby',\n",
      "           'offline_image_url': '',\n",
      "           'profile_image_url': 'https://static-cdn.jtvnw.net/jtv_user_pictures/793a17ea-1309-4d53-93f9-86edf7c294d2-profile_image-300x300.png',\n",
      "           'type': '',\n",
      "           'view_count': 2280}]}\n"
     ]
    }
   ],
   "source": [
    "pprint(twitch.get_users(logins=['gentlemangarby']))"
   ]
  },
  {
   "cell_type": "code",
   "execution_count": 30,
   "metadata": {},
   "outputs": [
    {
     "name": "stdout",
     "output_type": "stream",
     "text": [
      "{'data': [{'followed_at': '2021-03-08T01:07:11Z',\n",
      "           'from_id': '203571765',\n",
      "           'from_login': 'serenegrachay',\n",
      "           'from_name': 'SereneGrachay',\n",
      "           'to_id': '131088258',\n",
      "           'to_login': 'ichijis',\n",
      "           'to_name': 'ichijis'},\n",
      "          {'followed_at': '2021-03-05T17:26:09Z',\n",
      "           'from_id': '203571765',\n",
      "           'from_login': 'serenegrachay',\n",
      "           'from_name': 'SereneGrachay',\n",
      "           'to_id': '68525019',\n",
      "           'to_login': 'shadowatnoon',\n",
      "           'to_name': 'shadowatnoon'},\n",
      "          {'followed_at': '2021-03-05T06:16:07Z',\n",
      "           'from_id': '203571765',\n",
      "           'from_login': 'serenegrachay',\n",
      "           'from_name': 'SereneGrachay',\n",
      "           'to_id': '585440354',\n",
      "           'to_login': 'totally_not_erick',\n",
      "           'to_name': 'totally_not_erick'},\n",
      "          {'followed_at': '2021-02-26T02:08:01Z',\n",
      "           'from_id': '203571765',\n",
      "           'from_login': 'serenegrachay',\n",
      "           'from_name': 'SereneGrachay',\n",
      "           'to_id': '529409390',\n",
      "           'to_login': 'atx_vgc',\n",
      "           'to_name': 'ATX_VGC'},\n",
      "          {'followed_at': '2021-02-25T20:02:22Z',\n",
      "           'from_id': '203571765',\n",
      "           'from_login': 'serenegrachay',\n",
      "           'from_name': 'SereneGrachay',\n",
      "           'to_id': '26058558',\n",
      "           'to_login': 'glitchxcity',\n",
      "           'to_name': 'GlitchxCity'},\n",
      "          {'followed_at': '2021-02-20T23:38:04Z',\n",
      "           'from_id': '203571765',\n",
      "           'from_login': 'serenegrachay',\n",
      "           'from_name': 'SereneGrachay',\n",
      "           'to_id': '147102854',\n",
      "           'to_login': 'galaxiangod',\n",
      "           'to_name': 'galaxiangod'},\n",
      "          {'followed_at': '2021-02-19T02:21:52Z',\n",
      "           'from_id': '203571765',\n",
      "           'from_login': 'serenegrachay',\n",
      "           'from_name': 'SereneGrachay',\n",
      "           'to_id': '115539870',\n",
      "           'to_login': 'freehenry',\n",
      "           'to_name': 'FreeHenry'},\n",
      "          {'followed_at': '2021-02-17T01:21:37Z',\n",
      "           'from_id': '203571765',\n",
      "           'from_login': 'serenegrachay',\n",
      "           'from_name': 'SereneGrachay',\n",
      "           'to_id': '113673640',\n",
      "           'to_login': 'louthepikachu',\n",
      "           'to_name': 'LouThePikachu'},\n",
      "          {'followed_at': '2021-02-14T21:30:31Z',\n",
      "           'from_id': '203571765',\n",
      "           'from_login': 'serenegrachay',\n",
      "           'from_name': 'SereneGrachay',\n",
      "           'to_id': '51036255',\n",
      "           'to_login': 'obstructionsz',\n",
      "           'to_name': 'Obstructionsz'},\n",
      "          {'followed_at': '2021-02-10T02:16:25Z',\n",
      "           'from_id': '203571765',\n",
      "           'from_login': 'serenegrachay',\n",
      "           'from_name': 'SereneGrachay',\n",
      "           'to_id': '22407530',\n",
      "           'to_login': 'pkmncast',\n",
      "           'to_name': 'PKMNcast'},\n",
      "          {'followed_at': '2021-02-10T01:04:43Z',\n",
      "           'from_id': '203571765',\n",
      "           'from_login': 'serenegrachay',\n",
      "           'from_name': 'SereneGrachay',\n",
      "           'to_id': '558919332',\n",
      "           'to_login': 'honeybeegirl122',\n",
      "           'to_name': 'honeybeegirl122'},\n",
      "          {'followed_at': '2021-02-08T01:32:12Z',\n",
      "           'from_id': '203571765',\n",
      "           'from_login': 'serenegrachay',\n",
      "           'from_name': 'SereneGrachay',\n",
      "           'to_id': '636767237',\n",
      "           'to_login': 'sarahvgc',\n",
      "           'to_name': 'SarahVGC'},\n",
      "          {'followed_at': '2021-02-07T21:18:59Z',\n",
      "           'from_id': '203571765',\n",
      "           'from_login': 'serenegrachay',\n",
      "           'from_name': 'SereneGrachay',\n",
      "           'to_id': '105774203',\n",
      "           'to_login': 'luckyw0lf',\n",
      "           'to_name': 'luckyw0lf'},\n",
      "          {'followed_at': '2021-02-06T21:07:18Z',\n",
      "           'from_id': '203571765',\n",
      "           'from_login': 'serenegrachay',\n",
      "           'from_name': 'SereneGrachay',\n",
      "           'to_id': '125494279',\n",
      "           'to_login': 'victoryroadvgc',\n",
      "           'to_name': 'VictoryRoadVGC'},\n",
      "          {'followed_at': '2021-02-03T02:18:42Z',\n",
      "           'from_id': '203571765',\n",
      "           'from_login': 'serenegrachay',\n",
      "           'from_name': 'SereneGrachay',\n",
      "           'to_id': '174711665',\n",
      "           'to_login': '45mice',\n",
      "           'to_name': '45mice'},\n",
      "          {'followed_at': '2021-02-01T19:52:25Z',\n",
      "           'from_id': '203571765',\n",
      "           'from_login': 'serenegrachay',\n",
      "           'from_name': 'SereneGrachay',\n",
      "           'to_id': '43105188',\n",
      "           'to_login': 'taninomori',\n",
      "           'to_name': 'TaniNoMori'},\n",
      "          {'followed_at': '2021-01-31T01:22:55Z',\n",
      "           'from_id': '203571765',\n",
      "           'from_login': 'serenegrachay',\n",
      "           'from_name': 'SereneGrachay',\n",
      "           'to_id': '16226352',\n",
      "           'to_login': 'bakingpanda',\n",
      "           'to_name': 'BakingPanda'},\n",
      "          {'followed_at': '2021-01-28T01:59:59Z',\n",
      "           'from_id': '203571765',\n",
      "           'from_login': 'serenegrachay',\n",
      "           'from_name': 'SereneGrachay',\n",
      "           'to_id': '195515346',\n",
      "           'to_login': 'aspoon13',\n",
      "           'to_name': 'ASpoon13'},\n",
      "          {'followed_at': '2021-01-22T03:17:19Z',\n",
      "           'from_id': '203571765',\n",
      "           'from_login': 'serenegrachay',\n",
      "           'from_name': 'SereneGrachay',\n",
      "           'to_id': '89519770',\n",
      "           'to_login': 'sombracurse',\n",
      "           'to_name': 'SombraCurse'},\n",
      "          {'followed_at': '2021-01-21T03:20:23Z',\n",
      "           'from_id': '203571765',\n",
      "           'from_login': 'serenegrachay',\n",
      "           'from_name': 'SereneGrachay',\n",
      "           'to_id': '99678046',\n",
      "           'to_login': 's7ormking',\n",
      "           'to_name': 'S7ormking'}],\n",
      " 'pagination': {'cursor': 'eyJiIjpudWxsLCJhIjp7IkN1cnNvciI6ImV5SjBjQ0k2SW5WelpYSTZNakF6TlRjeE56WTFPbVp2Ykd4dmQzTWlMQ0owY3lJNkluVnpaWEk2T1RrMk56Z3dORFlpTENKcGNDSTZJblZ6WlhJNk1qQXpOVGN4TnpZMU9tWnZiR3h2ZDNNaUxDSnBjeUk2SWpFMk1URXhPVGt5TWpNNU5qTTRPVGswTVRVaWZRPT0ifX0'},\n",
      " 'total': 130}\n"
     ]
    }
   ],
   "source": [
    "pprint(twitch.get_users_follows(from_id=203571765, after='eyJiIjpudWxsLCJhIjp7IkN1cnNvciI6ImV5SjBjQ0k2SW5WelpYSTZNakF6TlRjeE56WTFPbVp2Ykd4dmQzTWlMQ0owY3lJNkluVnpaWEk2TWpNeU56QTVNak0zSWl3aWFYQWlPaUoxYzJWeU9qSXdNelUzTVRjMk5UcG1iMnhzYjNkeklpd2lhWE1pT2lJeE5qRTFNakkyTURNd05UVTVOalkwTkRRekluMD0ifX0'))"
   ]
  },
  {
   "cell_type": "code",
   "execution_count": 31,
   "metadata": {},
   "outputs": [],
   "source": [
    "import json"
   ]
  },
  {
   "cell_type": "code",
   "execution_count": 45,
   "metadata": {},
   "outputs": [],
   "source": [
    "following = twitch.get_users_follows(from_id=203571765)\n"
   ]
  },
  {
   "cell_type": "code",
   "execution_count": 49,
   "metadata": {},
   "outputs": [
    {
     "data": {
      "text/plain": [
       "'eyJiIjpudWxsLCJhIjp7IkN1cnNvciI6ImV5SjBjQ0k2SW5WelpYSTZNakF6TlRjeE56WTFPbVp2Ykd4dmQzTWlMQ0owY3lJNkluVnpaWEk2TWpNeU56QTVNak0zSWl3aWFYQWlPaUoxYzJWeU9qSXdNelUzTVRjMk5UcG1iMnhzYjNkeklpd2lhWE1pT2lJeE5qRTFNakkyTURNd05UVTVOalkwTkRRekluMD0ifX0'"
      ]
     },
     "execution_count": 49,
     "metadata": {},
     "output_type": "execute_result"
    }
   ],
   "source": [
    "following['pagination']['cursor']"
   ]
  },
  {
   "cell_type": "code",
   "execution_count": 59,
   "metadata": {},
   "outputs": [
    {
     "name": "stdout",
     "output_type": "stream",
     "text": [
      "{'cursor': 'eyJiIjpudWxsLCJhIjp7IkN1cnNvciI6ImV5SjBjQ0k2SW5WelpYSTZNakF6TlRjeE56WTFPbVp2Ykd4dmQzTWlMQ0owY3lJNkluVnpaWEk2TWpNeU56QTVNak0zSWl3aWFYQWlPaUoxYzJWeU9qSXdNelUzTVRjMk5UcG1iMnhzYjNkeklpd2lhWE1pT2lJeE5qRTFNakkyTURNd05UVTVOalkwTkRRekluMD0ifX0'}\n"
     ]
    },
    {
     "ename": "TypeError",
     "evalue": "string indices must be integers",
     "output_type": "error",
     "traceback": [
      "\u001b[1;31m---------------------------------------------------------------------------\u001b[0m",
      "\u001b[1;31mTypeError\u001b[0m                                 Traceback (most recent call last)",
      "\u001b[1;32m<ipython-input-59-6fbae00b39f4>\u001b[0m in \u001b[0;36m<module>\u001b[1;34m\u001b[0m\n\u001b[0;32m      4\u001b[0m \u001b[1;32mwhile\u001b[0m \u001b[0mpage\u001b[0m \u001b[1;32mis\u001b[0m \u001b[1;32mnot\u001b[0m \u001b[1;34m''\u001b[0m\u001b[1;33m:\u001b[0m\u001b[1;33m\u001b[0m\u001b[1;33m\u001b[0m\u001b[0m\n\u001b[0;32m      5\u001b[0m     \u001b[0mfollowtotal\u001b[0m \u001b[1;33m+=\u001b[0m \u001b[0mtwitch\u001b[0m\u001b[1;33m.\u001b[0m\u001b[0mget_users_follows\u001b[0m\u001b[1;33m(\u001b[0m\u001b[0mfrom_id\u001b[0m\u001b[1;33m=\u001b[0m\u001b[1;36m203571765\u001b[0m\u001b[1;33m,\u001b[0m \u001b[0mafter\u001b[0m\u001b[1;33m=\u001b[0m\u001b[0mpage\u001b[0m\u001b[1;33m)\u001b[0m\u001b[1;33m\u001b[0m\u001b[1;33m\u001b[0m\u001b[0m\n\u001b[1;32m----> 6\u001b[1;33m     \u001b[0mprint\u001b[0m\u001b[1;33m(\u001b[0m\u001b[0mfollowtotal\u001b[0m\u001b[1;33m[\u001b[0m\u001b[0mcount\u001b[0m\u001b[1;33m]\u001b[0m\u001b[1;33m[\u001b[0m\u001b[1;34m'pagination'\u001b[0m\u001b[1;33m]\u001b[0m\u001b[1;33m)\u001b[0m\u001b[1;33m\u001b[0m\u001b[1;33m\u001b[0m\u001b[0m\n\u001b[0m\u001b[0;32m      7\u001b[0m     \u001b[0mpage\u001b[0m \u001b[1;33m=\u001b[0m \u001b[0mfollowtotal\u001b[0m\u001b[1;33m[\u001b[0m\u001b[0mcount\u001b[0m\u001b[1;33m]\u001b[0m\u001b[1;33m[\u001b[0m\u001b[1;34m'pagination'\u001b[0m\u001b[1;33m]\u001b[0m\u001b[1;33m[\u001b[0m\u001b[1;34m'cursor'\u001b[0m\u001b[1;33m]\u001b[0m\u001b[1;33m\u001b[0m\u001b[1;33m\u001b[0m\u001b[0m\n\u001b[0;32m      8\u001b[0m     \u001b[0mcount\u001b[0m\u001b[1;33m+=\u001b[0m\u001b[1;36m1\u001b[0m\u001b[1;33m\u001b[0m\u001b[1;33m\u001b[0m\u001b[0m\n",
      "\u001b[1;31mTypeError\u001b[0m: string indices must be integers"
     ]
    }
   ],
   "source": [
    "followtotal = [following]\n",
    "page = following['pagination']['cursor']\n",
    "count = 0\n",
    "while page is not '':\n",
    "    followtotal += twitch.get_users_follows(from_id=203571765, after=page)\n",
    "    print(followtotal[count]['pagination'])\n",
    "    page = followtotal[count]['pagination']['cursor']\n",
    "    count+=1"
   ]
  },
  {
   "cell_type": "code",
   "execution_count": 61,
   "metadata": {},
   "outputs": [
    {
     "data": {
      "text/plain": [
       "{'total': 130,\n",
       " 'data': [{'from_id': '203571765',\n",
       "   'from_login': 'serenegrachay',\n",
       "   'from_name': 'SereneGrachay',\n",
       "   'to_id': '141981764',\n",
       "   'to_login': 'twitchdev',\n",
       "   'to_name': 'TwitchDev',\n",
       "   'followed_at': '2021-08-23T23:37:25Z'},\n",
       "  {'from_id': '203571765',\n",
       "   'from_login': 'serenegrachay',\n",
       "   'from_name': 'SereneGrachay',\n",
       "   'to_id': '597316278',\n",
       "   'to_login': 'mastershef0e',\n",
       "   'to_name': 'MASTERSHEF0E',\n",
       "   'followed_at': '2021-08-23T02:30:01Z'},\n",
       "  {'from_id': '203571765',\n",
       "   'from_login': 'serenegrachay',\n",
       "   'from_name': 'SereneGrachay',\n",
       "   'to_id': '162761277',\n",
       "   'to_login': 'tomkill115',\n",
       "   'to_name': 'TomKILL115',\n",
       "   'followed_at': '2021-08-22T02:29:04Z'},\n",
       "  {'from_id': '203571765',\n",
       "   'from_login': 'serenegrachay',\n",
       "   'from_name': 'SereneGrachay',\n",
       "   'to_id': '217814966',\n",
       "   'to_login': 'professortwigg',\n",
       "   'to_name': 'professortwigg',\n",
       "   'followed_at': '2021-08-06T20:26:37Z'},\n",
       "  {'from_id': '203571765',\n",
       "   'from_login': 'serenegrachay',\n",
       "   'from_name': 'SereneGrachay',\n",
       "   'to_id': '177495378',\n",
       "   'to_login': 'boardingpartydmdrew',\n",
       "   'to_name': 'BoardingPartyDMDrew',\n",
       "   'followed_at': '2021-08-06T20:19:16Z'},\n",
       "  {'from_id': '203571765',\n",
       "   'from_login': 'serenegrachay',\n",
       "   'from_name': 'SereneGrachay',\n",
       "   'to_id': '220046959',\n",
       "   'to_login': 'briandavidgilbert',\n",
       "   'to_name': 'briandavidgilbert',\n",
       "   'followed_at': '2021-08-05T16:10:18Z'},\n",
       "  {'from_id': '203571765',\n",
       "   'from_login': 'serenegrachay',\n",
       "   'from_name': 'SereneGrachay',\n",
       "   'to_id': '32956898',\n",
       "   'to_login': 'indiebear',\n",
       "   'to_name': 'indiebear',\n",
       "   'followed_at': '2021-08-02T03:28:28Z'},\n",
       "  {'from_id': '203571765',\n",
       "   'from_login': 'serenegrachay',\n",
       "   'from_name': 'SereneGrachay',\n",
       "   'to_id': '143839825',\n",
       "   'to_login': 'uleejulie',\n",
       "   'to_name': 'uLeeJulie',\n",
       "   'followed_at': '2021-07-20T15:47:00Z'},\n",
       "  {'from_id': '203571765',\n",
       "   'from_login': 'serenegrachay',\n",
       "   'from_name': 'SereneGrachay',\n",
       "   'to_id': '188264612',\n",
       "   'to_login': 'heyboyblue',\n",
       "   'to_name': 'heyboyblue',\n",
       "   'followed_at': '2021-07-16T01:34:36Z'},\n",
       "  {'from_id': '203571765',\n",
       "   'from_login': 'serenegrachay',\n",
       "   'from_name': 'SereneGrachay',\n",
       "   'to_id': '18384018',\n",
       "   'to_login': 'thenoble1',\n",
       "   'to_name': 'thenoble1',\n",
       "   'followed_at': '2021-07-15T02:19:26Z'},\n",
       "  {'from_id': '203571765',\n",
       "   'from_login': 'serenegrachay',\n",
       "   'from_name': 'SereneGrachay',\n",
       "   'to_id': '593834008',\n",
       "   'to_login': 'yuppypika',\n",
       "   'to_name': 'YuppyPika',\n",
       "   'followed_at': '2021-07-11T18:36:10Z'},\n",
       "  {'from_id': '203571765',\n",
       "   'from_login': 'serenegrachay',\n",
       "   'from_name': 'SereneGrachay',\n",
       "   'to_id': '65469220',\n",
       "   'to_login': 'sammysmoothbrain',\n",
       "   'to_name': 'SammySmoothbrain',\n",
       "   'followed_at': '2021-06-01T00:34:53Z'},\n",
       "  {'from_id': '203571765',\n",
       "   'from_login': 'serenegrachay',\n",
       "   'from_name': 'SereneGrachay',\n",
       "   'to_id': '200394185',\n",
       "   'to_login': 'anuntitledfolder',\n",
       "   'to_name': 'AnUntitledFolder',\n",
       "   'followed_at': '2021-05-13T05:37:10Z'},\n",
       "  {'from_id': '203571765',\n",
       "   'from_login': 'serenegrachay',\n",
       "   'from_name': 'SereneGrachay',\n",
       "   'to_id': '524564941',\n",
       "   'to_login': 'cotnn',\n",
       "   'to_name': 'cotnn',\n",
       "   'followed_at': '2021-05-13T00:07:01Z'},\n",
       "  {'from_id': '203571765',\n",
       "   'from_login': 'serenegrachay',\n",
       "   'from_name': 'SereneGrachay',\n",
       "   'to_id': '625560637',\n",
       "   'to_login': 'karaikouvgc',\n",
       "   'to_name': 'KaraikouVGC',\n",
       "   'followed_at': '2021-04-21T01:51:30Z'},\n",
       "  {'from_id': '203571765',\n",
       "   'from_login': 'serenegrachay',\n",
       "   'from_name': 'SereneGrachay',\n",
       "   'to_id': '43825170',\n",
       "   'to_login': 'hamallkid',\n",
       "   'to_name': 'HamAllKid',\n",
       "   'followed_at': '2021-04-13T23:12:17Z'},\n",
       "  {'from_id': '203571765',\n",
       "   'from_login': 'serenegrachay',\n",
       "   'from_name': 'SereneGrachay',\n",
       "   'to_id': '235282429',\n",
       "   'to_login': 'lady_brittany',\n",
       "   'to_name': 'Lady_Brittany',\n",
       "   'followed_at': '2021-03-24T01:27:44Z'},\n",
       "  {'from_id': '203571765',\n",
       "   'from_login': 'serenegrachay',\n",
       "   'from_name': 'SereneGrachay',\n",
       "   'to_id': '37291913',\n",
       "   'to_login': 'eggrollbuddy',\n",
       "   'to_name': 'Eggrollbuddy',\n",
       "   'followed_at': '2021-03-23T04:02:06Z'},\n",
       "  {'from_id': '203571765',\n",
       "   'from_login': 'serenegrachay',\n",
       "   'from_name': 'SereneGrachay',\n",
       "   'to_id': '138876278',\n",
       "   'to_login': 'kamihada',\n",
       "   'to_name': 'kamihada',\n",
       "   'followed_at': '2021-03-17T22:05:42Z'},\n",
       "  {'from_id': '203571765',\n",
       "   'from_login': 'serenegrachay',\n",
       "   'from_name': 'SereneGrachay',\n",
       "   'to_id': '232709237',\n",
       "   'to_login': 'whatisoup',\n",
       "   'to_name': 'whatisoup',\n",
       "   'followed_at': '2021-03-08T17:53:50Z'}],\n",
       " 'pagination': {'cursor': 'eyJiIjpudWxsLCJhIjp7IkN1cnNvciI6ImV5SjBjQ0k2SW5WelpYSTZNakF6TlRjeE56WTFPbVp2Ykd4dmQzTWlMQ0owY3lJNkluVnpaWEk2TWpNeU56QTVNak0zSWl3aWFYQWlPaUoxYzJWeU9qSXdNelUzTVRjMk5UcG1iMnhzYjNkeklpd2lhWE1pT2lJeE5qRTFNakkyTURNd05UVTVOalkwTkRRekluMD0ifX0'}}"
      ]
     },
     "execution_count": 61,
     "metadata": {},
     "output_type": "execute_result"
    }
   ],
   "source": [
    "following"
   ]
  },
  {
   "cell_type": "code",
   "execution_count": 71,
   "metadata": {},
   "outputs": [
    {
     "data": {
      "text/plain": [
       "['141981764',\n",
       " '597316278',\n",
       " '162761277',\n",
       " '217814966',\n",
       " '177495378',\n",
       " '220046959',\n",
       " '32956898',\n",
       " '143839825',\n",
       " '188264612',\n",
       " '18384018',\n",
       " '593834008',\n",
       " '65469220',\n",
       " '200394185',\n",
       " '524564941',\n",
       " '625560637',\n",
       " '43825170',\n",
       " '235282429',\n",
       " '37291913',\n",
       " '138876278',\n",
       " '232709237']"
      ]
     },
     "execution_count": 71,
     "metadata": {},
     "output_type": "execute_result"
    }
   ],
   "source": [
    "following_ids = []\n",
    "for i in following['data']:\n",
    "    following_ids.append(i['to_id'])\n",
    "    \n",
    "following_ids"
   ]
  },
  {
   "cell_type": "code",
   "execution_count": 72,
   "metadata": {},
   "outputs": [
    {
     "ename": "SyntaxError",
     "evalue": "invalid syntax (<ipython-input-72-394b501efa50>, line 1)",
     "output_type": "error",
     "traceback": [
      "\u001b[1;36m  File \u001b[1;32m\"<ipython-input-72-394b501efa50>\"\u001b[1;36m, line \u001b[1;32m1\u001b[0m\n\u001b[1;33m    for i in following_ids\u001b[0m\n\u001b[1;37m                          ^\u001b[0m\n\u001b[1;31mSyntaxError\u001b[0m\u001b[1;31m:\u001b[0m invalid syntax\n"
     ]
    }
   ],
   "source": [
    "for i in following_ids:\n",
    "    "
   ]
  },
  {
   "cell_type": "code",
   "execution_count": 73,
   "metadata": {},
   "outputs": [],
   "source": [
    "import numpy as np\n",
    "import pandas as pd"
   ]
  },
  {
   "cell_type": "code",
   "execution_count": null,
   "metadata": {},
   "outputs": [],
   "source": []
  }
 ],
 "metadata": {
  "kernelspec": {
   "display_name": "Python 3",
   "language": "python",
   "name": "python3"
  },
  "language_info": {
   "codemirror_mode": {
    "name": "ipython",
    "version": 3
   },
   "file_extension": ".py",
   "mimetype": "text/x-python",
   "name": "python",
   "nbconvert_exporter": "python",
   "pygments_lexer": "ipython3",
   "version": "3.7.6"
  }
 },
 "nbformat": 4,
 "nbformat_minor": 4
}
